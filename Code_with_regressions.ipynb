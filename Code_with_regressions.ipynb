{
 "cells": [
  {
   "cell_type": "code",
   "execution_count": 399,
   "id": "6c689764",
   "metadata": {},
   "outputs": [],
   "source": [
    "import pandas as pd\n",
    "import matplotlib as plt\n",
    "import seaborn as sns\n",
    "import matplotlib.pyplot as plt\n",
    "import numpy as np # математические функции и матрицы\n",
    "import matplotlib.pyplot as plt # графики\n",
    "import statsmodels.stats.api as sms\n",
    "import statsmodels.api as sm # стандартные регрессионные модели\n",
    "import statsmodels.formula.api as smf # аналогичные модели с синтаксисом в стиле R\n",
    "import statsmodels.graphics.gofplots as gf # визуализация моделей\n",
    "import statsmodels.discrete.discrete_model # дискретные модели\n",
    "from statsmodels.stats.outliers_influence import summary_table # работа с выбросами\n",
    "from scipy.stats import shapiro # тест Шапиро – Уилка\n",
    "import math\n",
    "from scipy.stats import skew, kurtosis\n",
    "from statsmodels.stats.outliers_influence import OLSInfluence\n",
    "from scipy import stats\n",
    "from scipy.stats import f\n",
    "from statsmodels.stats.diagnostic import het_white\n",
    "from statsmodels.stats.outliers_influence import variance_inflation_factor\n",
    "from statsmodels.tools.tools import add_constant\n",
    "from statsmodels.stats.diagnostic import het_goldfeldquandt\n"
   ]
  },
  {
   "cell_type": "code",
   "execution_count": 309,
   "id": "45dfc836",
   "metadata": {},
   "outputs": [],
   "source": [
    "style = {\n",
    "    # Цвета\n",
    "    'axes.facecolor': '#FFFFFF',  # Белый фон осей\n",
    "    'figure.facecolor': '#FFFFFF',  # Белый фон всей фигуры\n",
    "    'axes.edgecolor': '#222222',  # Темно-серые оси\n",
    "    'axes.labelcolor': '#222222',  # Темно-серые подписи осей\n",
    "    'xtick.color': '#444444',  # Более светло-серые метки на оси X\n",
    "    'ytick.color': '#444444',  # Более светло-серые метки на оси Y\n",
    "    'text.color': '#222222',  # Тёмный текст\n",
    "    'grid.color': '#DDDDDD',  # Светло-серая сетка\n",
    "\n",
    "    # Линии и точки\n",
    "    'lines.linewidth': 1.5,  \n",
    "    'lines.color': '#0077B6',  # Яркий синий цвет линий\n",
    "    'patch.edgecolor': '#0077B6',  # Синий цвет границ патчей\n",
    "    'scatter.edgecolors': '#FB5607',  # Ярко-оранжевый цвет краёв точек\n",
    "\n",
    "    # Boxplot стили\n",
    "    'boxplot.boxprops.color': '#0077B6',  # Синий цвет рамки boxplot\n",
    "    'boxplot.whiskerprops.color': '#00B4D8',  # Голубые усы\n",
    "    'boxplot.capprops.color': '#0077B6',  # Синие крышки\n",
    "    'boxplot.medianprops.color': '#FB5607',  # Оранжевая медиана\n",
    "}\n",
    "\n",
    "\n",
    "plt.style.use(style)\n"
   ]
  },
  {
   "cell_type": "code",
   "execution_count": 310,
   "id": "f215f021",
   "metadata": {},
   "outputs": [
    {
     "data": {
      "text/html": [
       "<div>\n",
       "<style scoped>\n",
       "    .dataframe tbody tr th:only-of-type {\n",
       "        vertical-align: middle;\n",
       "    }\n",
       "\n",
       "    .dataframe tbody tr th {\n",
       "        vertical-align: top;\n",
       "    }\n",
       "\n",
       "    .dataframe thead th {\n",
       "        text-align: right;\n",
       "    }\n",
       "</style>\n",
       "<table border=\"1\" class=\"dataframe\">\n",
       "  <thead>\n",
       "    <tr style=\"text-align: right;\">\n",
       "      <th></th>\n",
       "      <th>Unnamed: 0</th>\n",
       "      <th>brand</th>\n",
       "      <th>color</th>\n",
       "      <th>color_group</th>\n",
       "      <th>gearbox</th>\n",
       "      <th>drive</th>\n",
       "      <th>fuel_type</th>\n",
       "      <th>city</th>\n",
       "      <th>city_group</th>\n",
       "      <th>base_model</th>\n",
       "      <th>...</th>\n",
       "      <th>age</th>\n",
       "      <th>generation</th>\n",
       "      <th>is_new</th>\n",
       "      <th>is_restyling</th>\n",
       "      <th>is_pro</th>\n",
       "      <th>is_max</th>\n",
       "      <th>is_premium</th>\n",
       "      <th>price</th>\n",
       "      <th>power_density</th>\n",
       "      <th>mileage_age_interaction</th>\n",
       "    </tr>\n",
       "  </thead>\n",
       "  <tbody>\n",
       "    <tr>\n",
       "      <th>0</th>\n",
       "      <td>0</td>\n",
       "      <td>Haval</td>\n",
       "      <td>серый</td>\n",
       "      <td>Нейтральные</td>\n",
       "      <td>робот</td>\n",
       "      <td>полный</td>\n",
       "      <td>Бензин</td>\n",
       "      <td>Москва</td>\n",
       "      <td>Москва</td>\n",
       "      <td>H3</td>\n",
       "      <td>...</td>\n",
       "      <td>1.0</td>\n",
       "      <td>1.0</td>\n",
       "      <td>False</td>\n",
       "      <td>0</td>\n",
       "      <td>0</td>\n",
       "      <td>0</td>\n",
       "      <td>0</td>\n",
       "      <td>2320000.0</td>\n",
       "      <td>118.000000</td>\n",
       "      <td>12000.0</td>\n",
       "    </tr>\n",
       "    <tr>\n",
       "      <th>1</th>\n",
       "      <td>1</td>\n",
       "      <td>Chery</td>\n",
       "      <td>серый</td>\n",
       "      <td>Нейтральные</td>\n",
       "      <td>механика</td>\n",
       "      <td>передний</td>\n",
       "      <td>Бензин</td>\n",
       "      <td>Москва</td>\n",
       "      <td>Москва</td>\n",
       "      <td>Tiggo</td>\n",
       "      <td>...</td>\n",
       "      <td>1.0</td>\n",
       "      <td>1.0</td>\n",
       "      <td>False</td>\n",
       "      <td>0</td>\n",
       "      <td>1</td>\n",
       "      <td>0</td>\n",
       "      <td>0</td>\n",
       "      <td>1490000.0</td>\n",
       "      <td>75.333333</td>\n",
       "      <td>52460.0</td>\n",
       "    </tr>\n",
       "    <tr>\n",
       "      <th>2</th>\n",
       "      <td>2</td>\n",
       "      <td>Haval</td>\n",
       "      <td>чёрный</td>\n",
       "      <td>Нейтральные</td>\n",
       "      <td>робот</td>\n",
       "      <td>полный</td>\n",
       "      <td>Бензин</td>\n",
       "      <td>Москва</td>\n",
       "      <td>Москва</td>\n",
       "      <td>H3</td>\n",
       "      <td>...</td>\n",
       "      <td>1.0</td>\n",
       "      <td>1.0</td>\n",
       "      <td>False</td>\n",
       "      <td>0</td>\n",
       "      <td>0</td>\n",
       "      <td>0</td>\n",
       "      <td>0</td>\n",
       "      <td>2650000.0</td>\n",
       "      <td>118.000000</td>\n",
       "      <td>6308.0</td>\n",
       "    </tr>\n",
       "    <tr>\n",
       "      <th>3</th>\n",
       "      <td>3</td>\n",
       "      <td>Geely</td>\n",
       "      <td>синий</td>\n",
       "      <td>Холодные</td>\n",
       "      <td>робот</td>\n",
       "      <td>передний</td>\n",
       "      <td>Бензин</td>\n",
       "      <td>Балашиха</td>\n",
       "      <td>Московская область</td>\n",
       "      <td>Okavango</td>\n",
       "      <td>...</td>\n",
       "      <td>2.0</td>\n",
       "      <td>1.0</td>\n",
       "      <td>False</td>\n",
       "      <td>1</td>\n",
       "      <td>0</td>\n",
       "      <td>0</td>\n",
       "      <td>0</td>\n",
       "      <td>2980000.0</td>\n",
       "      <td>100.000000</td>\n",
       "      <td>34338.0</td>\n",
       "    </tr>\n",
       "    <tr>\n",
       "      <th>4</th>\n",
       "      <td>4</td>\n",
       "      <td>Chery</td>\n",
       "      <td>серый</td>\n",
       "      <td>Нейтральные</td>\n",
       "      <td>робот</td>\n",
       "      <td>передний</td>\n",
       "      <td>Бензин</td>\n",
       "      <td>Москва</td>\n",
       "      <td>Москва</td>\n",
       "      <td>Tiggo</td>\n",
       "      <td>...</td>\n",
       "      <td>3.0</td>\n",
       "      <td>1.0</td>\n",
       "      <td>False</td>\n",
       "      <td>1</td>\n",
       "      <td>0</td>\n",
       "      <td>0</td>\n",
       "      <td>0</td>\n",
       "      <td>1500000.0</td>\n",
       "      <td>98.000000</td>\n",
       "      <td>66000.0</td>\n",
       "    </tr>\n",
       "    <tr>\n",
       "      <th>...</th>\n",
       "      <td>...</td>\n",
       "      <td>...</td>\n",
       "      <td>...</td>\n",
       "      <td>...</td>\n",
       "      <td>...</td>\n",
       "      <td>...</td>\n",
       "      <td>...</td>\n",
       "      <td>...</td>\n",
       "      <td>...</td>\n",
       "      <td>...</td>\n",
       "      <td>...</td>\n",
       "      <td>...</td>\n",
       "      <td>...</td>\n",
       "      <td>...</td>\n",
       "      <td>...</td>\n",
       "      <td>...</td>\n",
       "      <td>...</td>\n",
       "      <td>...</td>\n",
       "      <td>...</td>\n",
       "      <td>...</td>\n",
       "      <td>...</td>\n",
       "    </tr>\n",
       "    <tr>\n",
       "      <th>1310</th>\n",
       "      <td>1310</td>\n",
       "      <td>Geely</td>\n",
       "      <td>серебристый</td>\n",
       "      <td>Нейтральные</td>\n",
       "      <td>автомат</td>\n",
       "      <td>полный</td>\n",
       "      <td>Бензин</td>\n",
       "      <td>Москва</td>\n",
       "      <td>Москва</td>\n",
       "      <td>Monjaro</td>\n",
       "      <td>...</td>\n",
       "      <td>0.0</td>\n",
       "      <td>1.0</td>\n",
       "      <td>False</td>\n",
       "      <td>1</td>\n",
       "      <td>0</td>\n",
       "      <td>0</td>\n",
       "      <td>1</td>\n",
       "      <td>3830000.0</td>\n",
       "      <td>119.000000</td>\n",
       "      <td>0.0</td>\n",
       "    </tr>\n",
       "    <tr>\n",
       "      <th>1311</th>\n",
       "      <td>1311</td>\n",
       "      <td>Geely</td>\n",
       "      <td>голубой</td>\n",
       "      <td>Холодные</td>\n",
       "      <td>робот</td>\n",
       "      <td>передний</td>\n",
       "      <td>Бензин</td>\n",
       "      <td>Москва</td>\n",
       "      <td>Москва</td>\n",
       "      <td>Icon</td>\n",
       "      <td>...</td>\n",
       "      <td>1.0</td>\n",
       "      <td>1.0</td>\n",
       "      <td>False</td>\n",
       "      <td>0</td>\n",
       "      <td>0</td>\n",
       "      <td>0</td>\n",
       "      <td>0</td>\n",
       "      <td>2699999.0</td>\n",
       "      <td>120.666667</td>\n",
       "      <td>1.0</td>\n",
       "    </tr>\n",
       "    <tr>\n",
       "      <th>1312</th>\n",
       "      <td>1312</td>\n",
       "      <td>Geely</td>\n",
       "      <td>серый</td>\n",
       "      <td>Нейтральные</td>\n",
       "      <td>робот</td>\n",
       "      <td>передний</td>\n",
       "      <td>Бензин</td>\n",
       "      <td>Москва</td>\n",
       "      <td>Москва</td>\n",
       "      <td>Icon</td>\n",
       "      <td>...</td>\n",
       "      <td>1.0</td>\n",
       "      <td>1.0</td>\n",
       "      <td>False</td>\n",
       "      <td>0</td>\n",
       "      <td>0</td>\n",
       "      <td>0</td>\n",
       "      <td>0</td>\n",
       "      <td>2699999.0</td>\n",
       "      <td>120.666667</td>\n",
       "      <td>10.0</td>\n",
       "    </tr>\n",
       "    <tr>\n",
       "      <th>1313</th>\n",
       "      <td>1313</td>\n",
       "      <td>Geely</td>\n",
       "      <td>синий</td>\n",
       "      <td>Холодные</td>\n",
       "      <td>робот</td>\n",
       "      <td>полный</td>\n",
       "      <td>Бензин</td>\n",
       "      <td>Одинцово</td>\n",
       "      <td>Московская область</td>\n",
       "      <td>Atlas</td>\n",
       "      <td>...</td>\n",
       "      <td>3.0</td>\n",
       "      <td>1.0</td>\n",
       "      <td>False</td>\n",
       "      <td>0</td>\n",
       "      <td>1</td>\n",
       "      <td>0</td>\n",
       "      <td>0</td>\n",
       "      <td>2100000.0</td>\n",
       "      <td>118.000000</td>\n",
       "      <td>174000.0</td>\n",
       "    </tr>\n",
       "    <tr>\n",
       "      <th>1314</th>\n",
       "      <td>1314</td>\n",
       "      <td>Geely</td>\n",
       "      <td>зелёный</td>\n",
       "      <td>Холодные</td>\n",
       "      <td>автомат</td>\n",
       "      <td>полный</td>\n",
       "      <td>Бензин</td>\n",
       "      <td>Москва</td>\n",
       "      <td>Москва</td>\n",
       "      <td>Monjaro</td>\n",
       "      <td>...</td>\n",
       "      <td>0.0</td>\n",
       "      <td>1.0</td>\n",
       "      <td>False</td>\n",
       "      <td>1</td>\n",
       "      <td>0</td>\n",
       "      <td>0</td>\n",
       "      <td>1</td>\n",
       "      <td>3750000.0</td>\n",
       "      <td>119.000000</td>\n",
       "      <td>0.0</td>\n",
       "    </tr>\n",
       "  </tbody>\n",
       "</table>\n",
       "<p>1315 rows × 25 columns</p>\n",
       "</div>"
      ],
      "text/plain": [
       "      Unnamed: 0  brand        color  color_group   gearbox     drive  \\\n",
       "0              0  Haval        серый  Нейтральные     робот    полный   \n",
       "1              1  Chery        серый  Нейтральные  механика  передний   \n",
       "2              2  Haval       чёрный  Нейтральные     робот    полный   \n",
       "3              3  Geely        синий     Холодные     робот  передний   \n",
       "4              4  Chery        серый  Нейтральные     робот  передний   \n",
       "...          ...    ...          ...          ...       ...       ...   \n",
       "1310        1310  Geely  серебристый  Нейтральные   автомат    полный   \n",
       "1311        1311  Geely      голубой     Холодные     робот  передний   \n",
       "1312        1312  Geely        серый  Нейтральные     робот  передний   \n",
       "1313        1313  Geely        синий     Холодные     робот    полный   \n",
       "1314        1314  Geely      зелёный     Холодные   автомат    полный   \n",
       "\n",
       "     fuel_type      city          city_group base_model  ...  age  generation  \\\n",
       "0       Бензин    Москва              Москва         H3  ...  1.0         1.0   \n",
       "1       Бензин    Москва              Москва      Tiggo  ...  1.0         1.0   \n",
       "2       Бензин    Москва              Москва         H3  ...  1.0         1.0   \n",
       "3       Бензин  Балашиха  Московская область   Okavango  ...  2.0         1.0   \n",
       "4       Бензин    Москва              Москва      Tiggo  ...  3.0         1.0   \n",
       "...        ...       ...                 ...        ...  ...  ...         ...   \n",
       "1310    Бензин    Москва              Москва    Monjaro  ...  0.0         1.0   \n",
       "1311    Бензин    Москва              Москва       Icon  ...  1.0         1.0   \n",
       "1312    Бензин    Москва              Москва       Icon  ...  1.0         1.0   \n",
       "1313    Бензин  Одинцово  Московская область      Atlas  ...  3.0         1.0   \n",
       "1314    Бензин    Москва              Москва    Monjaro  ...  0.0         1.0   \n",
       "\n",
       "      is_new  is_restyling  is_pro  is_max  is_premium      price  \\\n",
       "0      False             0       0       0           0  2320000.0   \n",
       "1      False             0       1       0           0  1490000.0   \n",
       "2      False             0       0       0           0  2650000.0   \n",
       "3      False             1       0       0           0  2980000.0   \n",
       "4      False             1       0       0           0  1500000.0   \n",
       "...      ...           ...     ...     ...         ...        ...   \n",
       "1310   False             1       0       0           1  3830000.0   \n",
       "1311   False             0       0       0           0  2699999.0   \n",
       "1312   False             0       0       0           0  2699999.0   \n",
       "1313   False             0       1       0           0  2100000.0   \n",
       "1314   False             1       0       0           1  3750000.0   \n",
       "\n",
       "      power_density  mileage_age_interaction  \n",
       "0        118.000000                  12000.0  \n",
       "1         75.333333                  52460.0  \n",
       "2        118.000000                   6308.0  \n",
       "3        100.000000                  34338.0  \n",
       "4         98.000000                  66000.0  \n",
       "...             ...                      ...  \n",
       "1310     119.000000                      0.0  \n",
       "1311     120.666667                      1.0  \n",
       "1312     120.666667                     10.0  \n",
       "1313     118.000000                 174000.0  \n",
       "1314     119.000000                      0.0  \n",
       "\n",
       "[1315 rows x 25 columns]"
      ]
     },
     "execution_count": 310,
     "metadata": {},
     "output_type": "execute_result"
    }
   ],
   "source": [
    "df = pd.read_csv('cars_clean')\n",
    "df"
   ]
  },
  {
   "cell_type": "code",
   "execution_count": 393,
   "id": "ad6e829f",
   "metadata": {},
   "outputs": [],
   "source": [
    "target = 'price'\n",
    "numeric_feats = ['mileage', 'power_1', 'power_2', 'model_popularity', 'age', 'generation', 'power_density', 'mileage_age_interaction']\n",
    "cat_feats = ['brand', 'color', 'color_group', 'gearbox', 'drive', 'fuel_type', 'city', 'city_group', 'base_model', 'car_class']\n",
    "dummies = ['is_new', 'is_restyling', 'is_pro', 'is_max', 'is_premium']"
   ]
  },
  {
   "cell_type": "markdown",
   "id": "c3888e7f",
   "metadata": {},
   "source": []
  },
  {
   "cell_type": "markdown",
   "id": "4c70d2fd",
   "metadata": {},
   "source": [
    "### Построим линейную модель"
   ]
  },
  {
   "cell_type": "code",
   "execution_count": 357,
   "id": "52e2d01c",
   "metadata": {},
   "outputs": [],
   "source": [
    "target = 'price'\n",
    "numeric_feats = ['mileage', 'power_2', 'model_popularity', 'age', 'generation', 'power_density', 'mileage_age_interaction']\n",
    "cat_feats = ['brand', 'color', 'gearbox', 'drive', 'fuel_type', 'city_group']\n",
    "dummies = ['is_new', 'is_restyling', 'is_pro', 'is_max', 'is_premium']"
   ]
  },
  {
   "cell_type": "code",
   "execution_count": 394,
   "id": "e91e8581",
   "metadata": {},
   "outputs": [],
   "source": [
    "# Возьмем все признаки, категориальные превратим в дамми\n",
    "X_cat = pd.get_dummies(df[cat_feats], drop_first=True)\n",
    "\n",
    "# Признаки\n",
    "X = pd.concat([df[numeric_feats], X_cat, df[dummies]], axis=1)\n",
    "X = sm.add_constant(X)\n",
    "\n",
    "# Целевая переменная\n",
    "Y = pd.to_numeric(df[target], errors='coerce')"
   ]
  },
  {
   "cell_type": "code",
   "execution_count": 395,
   "id": "e34a6528",
   "metadata": {},
   "outputs": [],
   "source": [
    "# преоразуем були в бинарные переменные\n",
    "for col in X.columns:\n",
    "    if X[col].dtype == 'bool':\n",
    "        X[col] = X[col].astype(int)"
   ]
  },
  {
   "cell_type": "markdown",
   "id": "094a5b27",
   "metadata": {},
   "source": [
    "Скорректируем признаки: районы Москвы являются Москвой"
   ]
  },
  {
   "cell_type": "code",
   "execution_count": 314,
   "id": "a17541bb",
   "metadata": {},
   "outputs": [],
   "source": [
    "msk_columns = [col for col in X.columns \n",
    "              if col.startswith('city_') and \n",
    "              col != 'city_Москва' and  # исключаем основной признак\n",
    "              ('Москва' in col or \n",
    "               'административный округ' in col or\n",
    "               'Тёплый Стан' in col or\n",
    "               'Братеево' in col or\n",
    "               'Раздоры' in col or\n",
    "               'Ржавки' in col or\n",
    "               'Сухарево' in col)]\n",
    "\n",
    "# 2. Обновляем признак city_Москва: 1 если есть любой московский район\n",
    "if msk_columns:  # если такие столбцы существуют\n",
    "    X['city_Москва'] = X[msk_columns + ['city_Москва']].any(axis=1).astype(int)\n",
    "    X = X.drop(columns=msk_columns)\n",
    "else:\n",
    "    # если столбцов с районами нет, оставляем как есть\n",
    "    pass"
   ]
  },
  {
   "cell_type": "markdown",
   "id": "b456f630",
   "metadata": {},
   "source": [
    "Проверим, нет ли одинаковых столбцов в датафрейме"
   ]
  },
  {
   "cell_type": "code",
   "execution_count": 360,
   "id": "cf740635",
   "metadata": {},
   "outputs": [
    {
     "name": "stdout",
     "output_type": "stream",
     "text": [
      "Дубликаты столбцов:\n"
     ]
    }
   ],
   "source": [
    "duplicate_columns = []\n",
    "for i, col1 in enumerate(X.columns):\n",
    "    for j, col2 in enumerate(X.columns[i+1:]):\n",
    "        if X[col1].equals(X[col2]):\n",
    "            duplicate_columns.append((col1, col2))\n",
    "\n",
    "print(\"Дубликаты столбцов:\")\n",
    "for pair in duplicate_columns:\n",
    "    print(f\"{pair[0]} == {pair[1]}\")"
   ]
  },
  {
   "cell_type": "code",
   "execution_count": 398,
   "id": "0d3e15f3",
   "metadata": {},
   "outputs": [
    {
     "name": "stdout",
     "output_type": "stream",
     "text": [
      "is_premium                base_model_Monjaro          0.995878\n",
      "base_model_Monjaro        is_premium                  0.995878\n",
      "city_group_Москва         city_Москва                 0.988525\n",
      "city_Москва               city_group_Москва           0.988525\n",
      "color_жёлтый              color_group_Тёплые          0.932955\n",
      "color_group_Тёплые        color_жёлтый                0.932955\n",
      "car_class_SUV             base_model_Atlas            0.903926\n",
      "base_model_Atlas          car_class_SUV               0.903926\n",
      "mileage_age_interaction   age                         0.900740\n",
      "age                       mileage_age_interaction     0.900740\n",
      "car_class_Luxury SUV      base_model_F7               0.879870\n",
      "base_model_F7             car_class_Luxury SUV        0.879870\n",
      "color_group_Экзотические  color_фиолетовый            0.848328\n",
      "                          city_Московский             0.848328\n",
      "city_Московский           color_group_Экзотические    0.848328\n",
      "color_фиолетовый          color_group_Экзотические    0.848328\n",
      "color_коричневый          base_model_H2               0.816186\n",
      "base_model_H2             color_коричневый            0.816186\n",
      "power_2                   is_premium                  0.815987\n",
      "is_premium                power_2                     0.815987\n",
      "dtype: float64\n"
     ]
    }
   ],
   "source": [
    "corr_matrix = X.corr()\n",
    "\n",
    "corr_pairs = corr_matrix.unstack().sort_values(ascending=False)\n",
    "corr_pairs = corr_pairs[corr_pairs != 1]\n",
    "print(corr_pairs.head(20))"
   ]
  },
  {
   "cell_type": "code",
   "execution_count": 363,
   "id": "40f6cd0c",
   "metadata": {},
   "outputs": [],
   "source": [
    "X = X.loc[:, ~X.columns.str.startswith('city_group')]\n",
    "X = X.loc[:, ~X.columns.str.startswith('color_group')]\n",
    "X = X.loc[:, ~X.columns.str.startswith('base_model')]\n",
    "X = X.loc[:, ~X.columns.str.startswith('color_фиолетовый')]"
   ]
  },
  {
   "cell_type": "markdown",
   "id": "6199775d",
   "metadata": {},
   "source": [
    "Проверим ранги матриц"
   ]
  },
  {
   "cell_type": "code",
   "execution_count": 385,
   "id": "6b20ea7c",
   "metadata": {},
   "outputs": [
    {
     "name": "stdout",
     "output_type": "stream",
     "text": [
      "29\n",
      "29\n"
     ]
    }
   ],
   "source": [
    "print(np.linalg.matrix_rank(X))\n",
    "print(X.shape[1])"
   ]
  },
  {
   "cell_type": "markdown",
   "id": "866c244f",
   "metadata": {},
   "source": [
    "Вновь проверим на мультиколлинеарность"
   ]
  },
  {
   "cell_type": "code",
   "execution_count": 389,
   "id": "9a9ab7b3",
   "metadata": {},
   "outputs": [],
   "source": [
    "X = X.loc[:, ~X.columns.str.startswith('const')]"
   ]
  },
  {
   "cell_type": "code",
   "execution_count": 390,
   "id": "e2bd4964",
   "metadata": {},
   "outputs": [
    {
     "name": "stdout",
     "output_type": "stream",
     "text": [
      "\n",
      "Отсортировано по VIF (по убыванию):\n",
      "              feature         VIF\n",
      "3      power_density  117.458822\n",
      "5        brand_Geely   26.314500\n",
      "2         generation   25.351583\n",
      "1   model_popularity   19.612875\n",
      "20     gearbox_робот   12.272112\n"
     ]
    }
   ],
   "source": [
    "vif_data = pd.DataFrame()\n",
    "vif_data[\"feature\"] = X.columns\n",
    "vif_data[\"VIF\"] = [variance_inflation_factor(X.values, i) for i in range(X.shape[1])]\n",
    "\n",
    "high_vif_features = vif_data[vif_data[\"VIF\"] > 10]\n",
    "print(\"\\nОтсортировано по VIF (по убыванию):\\n\", high_vif_features.sort_values(\"VIF\", ascending=False))"
   ]
  },
  {
   "cell_type": "code",
   "execution_count": 391,
   "id": "68c31076",
   "metadata": {},
   "outputs": [],
   "source": [
    "model = sm.OLS(Y, X).fit()\n"
   ]
  },
  {
   "cell_type": "code",
   "execution_count": 392,
   "id": "6bd9962a",
   "metadata": {},
   "outputs": [
    {
     "name": "stdout",
     "output_type": "stream",
     "text": [
      "                                 OLS Regression Results                                \n",
      "=======================================================================================\n",
      "Dep. Variable:                  price   R-squared (uncentered):                   0.985\n",
      "Model:                            OLS   Adj. R-squared (uncentered):              0.984\n",
      "Method:                 Least Squares   F-statistic:                              2939.\n",
      "Date:                Sun, 27 Apr 2025   Prob (F-statistic):                        0.00\n",
      "Time:                        15:10:27   Log-Likelihood:                         -18517.\n",
      "No. Observations:                1315   AIC:                                  3.709e+04\n",
      "Df Residuals:                    1287   BIC:                                  3.723e+04\n",
      "Df Model:                          28                                                  \n",
      "Covariance Type:            nonrobust                                                  \n",
      "===========================================================================================\n",
      "                              coef    std err          t      P>|t|      [0.025      0.975]\n",
      "-------------------------------------------------------------------------------------------\n",
      "mileage                    -6.3183      0.455    -13.897      0.000      -7.210      -5.426\n",
      "model_popularity          314.3544    186.350      1.687      0.092     -51.228     679.937\n",
      "generation               2.504e+05   4.07e+04      6.148      0.000     1.7e+05     3.3e+05\n",
      "power_density            1.553e+04    885.663     17.534      0.000    1.38e+04    1.73e+04\n",
      "mileage_age_interaction     0.2550      0.045      5.695      0.000       0.167       0.343\n",
      "brand_Geely              3.377e+05   5.49e+04      6.152      0.000     2.3e+05    4.45e+05\n",
      "brand_Haval              1.293e+05   7.26e+04      1.780      0.075   -1.32e+04    2.72e+05\n",
      "color_белый             -1.119e+05   3.03e+04     -3.694      0.000   -1.71e+05   -5.25e+04\n",
      "color_голубой             2.74e+05   5.98e+04      4.582      0.000    1.57e+05    3.91e+05\n",
      "color_жёлтый            -7.838e+05   8.03e+04     -9.764      0.000   -9.41e+05   -6.26e+05\n",
      "color_зелёный            5.765e+05   3.83e+04     15.033      0.000    5.01e+05    6.52e+05\n",
      "color_золотистый        -8.472e+05    3.2e+05     -2.646      0.008   -1.48e+06   -2.19e+05\n",
      "color_коричневый         1.614e+04   2.38e+05      0.068      0.946    -4.5e+05    4.82e+05\n",
      "color_красный           -6.793e+04   1.19e+05     -0.572      0.568   -3.01e+05    1.65e+05\n",
      "color_пурпурный         -1.314e+05   1.33e+05     -0.991      0.322   -3.92e+05    1.29e+05\n",
      "color_серебристый         1.69e+05   3.36e+04      5.028      0.000    1.03e+05    2.35e+05\n",
      "color_синий             -2.519e+05   5.38e+04     -4.684      0.000   -3.57e+05   -1.46e+05\n",
      "color_чёрный             1.309e+05   3.43e+04      3.816      0.000    6.36e+04    1.98e+05\n",
      "gearbox_вариатор        -6.078e+04   6.24e+04     -0.974      0.330   -1.83e+05    6.17e+04\n",
      "gearbox_механика        -9.053e+05    7.1e+04    -12.756      0.000   -1.04e+06   -7.66e+05\n",
      "gearbox_робот           -8.459e+04   4.31e+04     -1.961      0.050   -1.69e+05      39.786\n",
      "drive_полный             6.096e+05   4.11e+04     14.822      0.000    5.29e+05     6.9e+05\n",
      "fuel_type_Гибрид         1.024e+05   1.79e+05      0.571      0.568   -2.49e+05    4.54e+05\n",
      "fuel_type_Дизель         1.274e+06    1.2e+05     10.591      0.000    1.04e+06    1.51e+06\n",
      "is_new                   7.389e+05   1.06e+05      6.947      0.000     5.3e+05    9.48e+05\n",
      "is_restyling             2.056e+05   2.64e+04      7.795      0.000    1.54e+05    2.57e+05\n",
      "is_pro                  -1.486e+05   4.96e+04     -2.998      0.003   -2.46e+05   -5.14e+04\n",
      "is_max                   7.599e+04   6.83e+04      1.113      0.266    -5.8e+04     2.1e+05\n",
      "==============================================================================\n",
      "Omnibus:                      116.319   Durbin-Watson:                   1.918\n",
      "Prob(Omnibus):                  0.000   Jarque-Bera (JB):              608.228\n",
      "Skew:                          -0.206   Prob(JB):                    8.41e-133\n",
      "Kurtosis:                       6.306   Cond. No.                     1.57e+07\n",
      "==============================================================================\n",
      "\n",
      "Notes:\n",
      "[1] R² is computed without centering (uncentered) since the model does not contain a constant.\n",
      "[2] Standard Errors assume that the covariance matrix of the errors is correctly specified.\n",
      "[3] The condition number is large, 1.57e+07. This might indicate that there are\n",
      "strong multicollinearity or other numerical problems.\n"
     ]
    }
   ],
   "source": [
    "print(model.summary())"
   ]
  },
  {
   "cell_type": "markdown",
   "id": "a9379878",
   "metadata": {},
   "source": [
    "### График Остатки-прогнозы"
   ]
  },
  {
   "cell_type": "code",
   "execution_count": 386,
   "id": "e656e2f1",
   "metadata": {},
   "outputs": [
    {
     "name": "stderr",
     "output_type": "stream",
     "text": [
      "/var/folders/2l/n72xwmrs7sv8qw6zsw6flx4w0000gn/T/ipykernel_84182/699730349.py:7: RuntimeWarning: invalid value encountered in sqrt\n",
      "  studentized_residuals = residuals / (np.sqrt(model.mse_resid * (1 - h_ii)))\n"
     ]
    },
    {
     "data": {
      "image/png": "[encoded data removed]",
      "text/plain": [
       "<Figure size 1200x600 with 2 Axes>"
      ]
     },
     "metadata": {},
     "output_type": "display_data"
    }
   ],
   "source": [
    "fitted_values = model.fittedvalues\n",
    "residuals = model.resid\n",
    "\n",
    "standardized_residuals = residuals / np.std(residuals)\n",
    "\n",
    "h_ii = model.get_influence().hat_matrix_diag\n",
    "studentized_residuals = residuals / (np.sqrt(model.mse_resid * (1 - h_ii)))\n",
    "\n",
    "plt.figure(figsize=(12, 6))\n",
    "\n",
    "plt.subplot(1, 2, 1)\n",
    "plt.scatter(fitted_values, standardized_residuals, alpha=0.7)\n",
    "plt.axhline(0, color='red', linestyle='--')\n",
    "plt.title('Стандартизированные остатки')\n",
    "plt.xlabel('Предсказанные значения')\n",
    "plt.ylabel('Стандартизированные остатки')\n",
    "\n",
    "plt.subplot(1, 2, 2)\n",
    "plt.scatter(fitted_values, studentized_residuals, alpha=0.7)\n",
    "plt.axhline(0, color='red', linestyle='--')\n",
    "plt.title('Стьюдентизированные остатки')\n",
    "plt.xlabel('Предсказанные значения')\n",
    "plt.ylabel('Стьюдентизированные остатки')\n",
    "\n",
    "plt.tight_layout()\n",
    "plt.show()\n"
   ]
  },
  {
   "cell_type": "markdown",
   "id": "adce87f6",
   "metadata": {},
   "source": [
    "### Тест бройша пагана"
   ]
  },
  {
   "cell_type": "code",
   "execution_count": 387,
   "id": "053ebff3",
   "metadata": {},
   "outputs": [
    {
     "name": "stdout",
     "output_type": "stream",
     "text": [
      "Breusch-Pagan Test:\n",
      "LM Statistic: 147.2996\n",
      "LM p-value: 0.0000\n",
      "F-Statistic: 5.7937\n",
      "F p-value: 0.0000\n"
     ]
    }
   ],
   "source": [
    "bp_test = sms.het_breuschpagan(model.resid, model.model.exog)\n",
    "\n",
    "print('Breusch-Pagan Test:')\n",
    "print(f'LM Statistic: {bp_test[0]:.4f}')\n",
    "print(f'LM p-value: {bp_test[1]:.4f}')\n",
    "print(f'F-Statistic: {bp_test[2]:.4f}')\n",
    "print(f'F p-value: {bp_test[3]:.4f}')\n"
   ]
  },
  {
   "cell_type": "markdown",
   "id": "89865359",
   "metadata": {},
   "source": [
    "### Тест Уайта"
   ]
  },
  {
   "cell_type": "code",
   "execution_count": 388,
   "id": "57d2d570",
   "metadata": {},
   "outputs": [
    {
     "ename": "AssertionError",
     "evalue": "",
     "output_type": "error",
     "traceback": [
      "\u001b[31m---------------------------------------------------------------------------\u001b[39m",
      "\u001b[31mAssertionError\u001b[39m                            Traceback (most recent call last)",
      "\u001b[36mCell\u001b[39m\u001b[36m \u001b[39m\u001b[32mIn[388]\u001b[39m\u001b[32m, line 1\u001b[39m\n\u001b[32m----> \u001b[39m\u001b[32m1\u001b[39m white_test = \u001b[43mhet_white\u001b[49m\u001b[43m(\u001b[49m\u001b[43mmodel\u001b[49m\u001b[43m.\u001b[49m\u001b[43mresid\u001b[49m\u001b[43m,\u001b[49m\u001b[43m \u001b[49m\u001b[43mmodel\u001b[49m\u001b[43m.\u001b[49m\u001b[43mmodel\u001b[49m\u001b[43m.\u001b[49m\u001b[43mexog\u001b[49m\u001b[43m)\u001b[49m\n\u001b[32m      3\u001b[39m labels = [\u001b[33m'\u001b[39m\u001b[33mTest Statistic\u001b[39m\u001b[33m'\u001b[39m, \u001b[33m'\u001b[39m\u001b[33mTest Statistic p-value\u001b[39m\u001b[33m'\u001b[39m, \u001b[33m'\u001b[39m\u001b[33mF-Statistic\u001b[39m\u001b[33m'\u001b[39m, \u001b[33m'\u001b[39m\u001b[33mF-Test p-value\u001b[39m\u001b[33m'\u001b[39m]\n\u001b[32m      4\u001b[39m results = \u001b[38;5;28mdict\u001b[39m(\u001b[38;5;28mzip\u001b[39m(labels, white_test))\n",
      "\u001b[36mFile \u001b[39m\u001b[32m/Library/Frameworks/Python.framework/Versions/3.13/lib/python3.13/site-packages/statsmodels/stats/diagnostic.py:867\u001b[39m, in \u001b[36mhet_white\u001b[39m\u001b[34m(resid, exog)\u001b[39m\n\u001b[32m    862\u001b[39m lm = nobs * resols.rsquared\n\u001b[32m    863\u001b[39m \u001b[38;5;66;03m# Note: degrees of freedom for LM test is nvars minus constant\u001b[39;00m\n\u001b[32m    864\u001b[39m \u001b[38;5;66;03m# degrees of freedom take possible reduced rank in exog into account\u001b[39;00m\n\u001b[32m    865\u001b[39m \u001b[38;5;66;03m# df_model checks the rank to determine df\u001b[39;00m\n\u001b[32m    866\u001b[39m \u001b[38;5;66;03m# extra calculation that can be removed:\u001b[39;00m\n\u001b[32m--> \u001b[39m\u001b[32m867\u001b[39m \u001b[38;5;28;01massert\u001b[39;00m resols.df_model == np.linalg.matrix_rank(exog) - \u001b[32m1\u001b[39m\n\u001b[32m    868\u001b[39m lmpval = stats.chi2.sf(lm, resols.df_model)\n\u001b[32m    869\u001b[39m \u001b[38;5;28;01mreturn\u001b[39;00m lm, lmpval, fval, fpval\n",
      "\u001b[31mAssertionError\u001b[39m: "
     ]
    }
   ],
   "source": [
    "white_test = het_white(model.resid, model.model.exog)\n",
    "\n",
    "labels = ['Test Statistic', 'Test Statistic p-value', 'F-Statistic', 'F-Test p-value']\n",
    "results = dict(zip(labels, white_test))\n",
    "\n",
    "print('White Test Results:')\n",
    "for key, value in results.items():\n",
    "    print(f\"{key}: {value:.4f}\")\n"
   ]
  },
  {
   "cell_type": "markdown",
   "id": "fe504026",
   "metadata": {},
   "source": [
    "### Проверка VIF"
   ]
  },
  {
   "cell_type": "code",
   "execution_count": 298,
   "id": "83964cb6",
   "metadata": {},
   "outputs": [
    {
     "name": "stderr",
     "output_type": "stream",
     "text": [
      "/Library/Frameworks/Python.framework/Versions/3.13/lib/python3.13/site-packages/statsmodels/regression/linear_model.py:1782: RuntimeWarning: divide by zero encountered in scalar divide\n",
      "  return 1 - self.ssr/self.centered_tss\n",
      "/Library/Frameworks/Python.framework/Versions/3.13/lib/python3.13/site-packages/statsmodels/stats/outliers_influence.py:197: RuntimeWarning: divide by zero encountered in scalar divide\n",
      "  vif = 1. / (1. - r_squared_i)\n"
     ]
    },
    {
     "name": "stdout",
     "output_type": "stream",
     "text": [
      "             feature         VIF\n",
      "0              const    0.000000\n",
      "1            mileage   11.098846\n",
      "2            power_1  153.043987\n",
      "3            power_2  458.679634\n",
      "4   model_popularity   33.453090\n",
      "..               ...         ...\n",
      "76            is_new         inf\n",
      "77      is_restyling    3.310856\n",
      "78            is_pro   11.781023\n",
      "79            is_max   10.071598\n",
      "80        is_premium   44.518966\n",
      "\n",
      "[81 rows x 2 columns]\n"
     ]
    }
   ],
   "source": [
    "from statsmodels.stats.outliers_influence import variance_inflation_factor\n",
    "from statsmodels.tools.tools import add_constant\n",
    "\n",
    "vif_data = pd.DataFrame()\n",
    "vif_data[\"feature\"] = X.columns\n",
    "vif_data[\"VIF\"] = [variance_inflation_factor(X.values, i) for i in range(X.shape[1])]\n",
    "print(vif_data)\n"
   ]
  },
  {
   "cell_type": "markdown",
   "id": "f0165918",
   "metadata": {},
   "source": [
    "### Тест Голдфельда-Квандта"
   ]
  },
  {
   "cell_type": "code",
   "execution_count": 400,
   "id": "3560c5ba",
   "metadata": {},
   "outputs": [
    {
     "name": "stdout",
     "output_type": "stream",
     "text": [
      "F-статистика = 0.611\n",
      "p-value = 1.000\n",
      "Гомоскедастичность не отвергается.\n"
     ]
    }
   ],
   "source": [
    "result = het_goldfeldquandt(model.resid, model.model.exog)\n",
    "print(f\"F-статистика = {result[0]:.3f}\")\n",
    "print(f\"p-value = {result[1]:.3f}\")\n",
    "\n",
    "if result[1] < 0.05:\n",
    "    print(\"Есть гетероскедастичность!\")\n",
    "else:\n",
    "    print(\"Гомоскедастичность не отвергается.\")"
   ]
  },
  {
   "cell_type": "markdown",
   "id": "289f122a",
   "metadata": {},
   "source": [
    "### Проверка полноранговости матрицы "
   ]
  },
  {
   "cell_type": "code",
   "execution_count": 401,
   "id": "9f5d8acc",
   "metadata": {},
   "outputs": [
    {
     "name": "stdout",
     "output_type": "stream",
     "text": [
      "Ранг матрицы: 112\n",
      "Матрица не является полноранговой\n"
     ]
    }
   ],
   "source": [
    "rank = np.linalg.matrix_rank(X)\n",
    "print(f\"Ранг матрицы: {rank}\")\n",
    "\n",
    "if rank == min(X.shape):\n",
    "    print(\"Матрица полноранговая\")\n",
    "else:\n",
    "    print(\"Матрица не является полноранговой\")"
   ]
  },
  {
   "cell_type": "markdown",
   "id": "db13f836",
   "metadata": {},
   "source": [
    "### T-тест: нулевые мат ожидания ошибок\n",
    "\n",
    "Если \n",
    "p\n",
    "-значение выше 0.05 → нет оснований отвергать \n",
    "H\n",
    "0\n",
    ", математическое ожидание ошибок действительно ≈ 0."
   ]
  },
  {
   "cell_type": "code",
   "execution_count": 402,
   "id": "c301d0aa",
   "metadata": {},
   "outputs": [
    {
     "name": "stdout",
     "output_type": "stream",
     "text": [
      "t-статистика: 0.30623526185235894, p-значение: 0.7594740395266137\n"
     ]
    }
   ],
   "source": [
    "t_stat, p_value = stats.ttest_1samp(model.resid, popmean=0)\n",
    "print(f't-статистика: {t_stat}, p-значение: {p_value}')"
   ]
  },
  {
   "cell_type": "markdown",
   "id": "ec241537",
   "metadata": {},
   "source": []
  },
  {
   "cell_type": "markdown",
   "id": "8662fda0",
   "metadata": {},
   "source": []
  }
 ],
 "metadata": {
  "kernelspec": {
   "display_name": "Python 3",
   "language": "python",
   "name": "python3"
  },
  "language_info": {
   "codemirror_mode": {
    "name": "ipython",
    "version": 3
   },
   "file_extension": ".py",
   "mimetype": "text/x-python",
   "name": "python",
   "nbconvert_exporter": "python",
   "pygments_lexer": "ipython3",
   "version": "3.13.1"
  }
 },
 "nbformat": 4,
 "nbformat_minor": 5
}
